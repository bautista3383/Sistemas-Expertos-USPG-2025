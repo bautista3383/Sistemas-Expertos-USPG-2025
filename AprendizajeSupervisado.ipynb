{
  "nbformat": 4,
  "nbformat_minor": 0,
  "metadata": {
    "colab": {
      "provenance": [],
      "authorship_tag": "ABX9TyPCGJILmJOuylO6uOr2S4Z4",
      "include_colab_link": true
    },
    "kernelspec": {
      "name": "python3",
      "display_name": "Python 3"
    },
    "language_info": {
      "name": "python"
    }
  },
  "cells": [
    {
      "cell_type": "markdown",
      "metadata": {
        "id": "view-in-github",
        "colab_type": "text"
      },
      "source": [
        "<a href=\"https://colab.research.google.com/github/bautista3383/Sistemas-Expertos-USPG-2025/blob/main/AprendizajeSupervisado.ipynb\" target=\"_parent\"><img src=\"https://colab.research.google.com/assets/colab-badge.svg\" alt=\"Open In Colab\"/></a>"
      ]
    },
    {
      "cell_type": "markdown",
      "source": [
        "## **EJERCICIO APRENDIZAJE SUPERVISADO EMERSON BAUTISTA 2200078**"
      ],
      "metadata": {
        "id": "G_Cx7H27ENEB"
      }
    },
    {
      "cell_type": "markdown",
      "source": [
        "# 🐾 Predicción de Adopción de Mascotas 🐾\n",
        "\n",
        "Imaginemos que trabajamos en un refugio de animales y queremos predecir si un perro será adoptado rápidamente (en menos de un mes). Para ello, crearemos un pequeño conjunto de datos basado en características observables de los perros que llegan al refugio.\n",
        "\n",
        "Objetivo: Clasificar si un perro será adoptado (1) o no (0) basándonos en su edad (en años) y si es de raza pura (1) o mestizo (0).\n",
        "\n",
        "Este es un problema de clasificación binaria, un caso clásico de aprendizaje supervisado."
      ],
      "metadata": {
        "id": "UTxPVEdkEY04"
      }
    },
    {
      "cell_type": "code",
      "source": [
        "# Paso 1: Importar las librerías necesarias\n",
        "import numpy as np\n",
        "import pandas as pd  # <-- AÑADIDO: Importamos la librería Pandas\n",
        "from sklearn.neighbors import KNeighborsClassifier\n",
        "\n",
        "# --- i. Creación del Conjunto de Datos ---\n",
        "\n",
        "# Características (entradas): [edad, es_raza_pura]\n",
        "X_train = np.array([\n",
        "    [2, 1],  # Perro joven de raza pura\n",
        "    [5, 0],  # Perro adulto mestizo\n",
        "    [1, 0],  # Cachorro mestizo\n",
        "    [3, 1],  # Perro joven de raza pura\n",
        "    [7, 1],  # Perro mayor de raza pura\n",
        "    [4, 0]   # Perro adulto mestizo\n",
        "])\n",
        "\n",
        "# Etiquetas (salidas): [adoptado] (1 = sí, 0 = no)\n",
        "y_train = np.array([1, 0, 1, 1, 0, 0])\n",
        "\n",
        "\n",
        "# --- MODIFICACIÓN: Mostrar datos como una tabla con Pandas ---\n",
        "\n",
        "# 1. Combinamos las características (X_train) y las etiquetas (y_train) en una sola matriz.\n",
        "#    y_train.reshape(-1, 1) convierte el array de etiquetas en una columna.\n",
        "combined_data = np.hstack([X_train, y_train.reshape(-1, 1)])\n",
        "\n",
        "# 2. Definimos los nombres de las columnas.\n",
        "column_names = ['Edad (años)', 'Raza Pura', 'Adoptado']\n",
        "\n",
        "# 3. Creamos el DataFrame de Pandas.\n",
        "df_train = pd.DataFrame(combined_data, columns=column_names)\n",
        "\n",
        "print(\"🐾 Conjunto de datos de entrenamiento (en una tabla):\")\n",
        "print(df_train) # <-- AÑADIDO: Imprimimos la tabla formateada\n",
        "print(\"-\" * 30)\n",
        "\n",
        "\n",
        "# --- ii. Entrenamiento del Modelo Supervisado ---\n",
        "\n",
        "# Creamos y entrenamos el clasificador KNN con k=3.\n",
        "knn_model = KNeighborsClassifier(n_neighbors=3)\n",
        "knn_model.fit(X_train, y_train)\n",
        "\n",
        "print(\"✅ ¡Modelo entrenado exitosamente!\")\n",
        "print(\"-\" * 30)\n",
        "\n",
        "\n",
        "# --- iii. Predicción con Datos Ingresados por el Usuario ---\n",
        "\n",
        "print(\"🐶 Ingrese los datos del nuevo perro para predecir su adopción:\")\n",
        "\n",
        "# (El resto del código para la predicción interactiva sigue igual)\n",
        "while True:\n",
        "    try:\n",
        "        edad_nuevo_perro = int(input(\"Edad del perro (en años): \"))\n",
        "        break\n",
        "    except ValueError:\n",
        "        print(\"Error: Por favor, introduce un número entero para la edad.\")\n",
        "\n",
        "while True:\n",
        "    raza_input = input(\"¿Es de raza pura? (sí/no): \").lower()\n",
        "    if raza_input in [\"sí\", \"si\", \"s\"]:\n",
        "        raza_nuevo_perro = 1\n",
        "        break\n",
        "    elif raza_input in [\"no\", \"n\"]:\n",
        "        raza_nuevo_perro = 0\n",
        "        break\n",
        "    else:\n",
        "        print(\"Error: Por favor, responde 'sí' o 'no'.\")\n",
        "\n",
        "nuevo_perro = np.array([[edad_nuevo_perro, raza_nuevo_perro]])\n",
        "prediccion = knn_model.predict(nuevo_perro)\n",
        "\n",
        "print(\"-\" * 30)\n",
        "\n",
        "# --- iv. Explicación de los Resultados ---\n",
        "\n",
        "print(f\"📊 Analizando un perro de {edad_nuevo_perro} año(s) y con 'Raza Pura'={raza_nuevo_perro}...\")\n",
        "print(\"\\nResultado de la Predicción:\")\n",
        "\n",
        "if prediccion[0] == 1:\n",
        "    print(\"El modelo predice que este perro SÍ será adoptado rápidamente. ¡Buenas noticias! 🎉\")\n",
        "else:\n",
        "    print(\"El modelo predice que este perro NO será adoptado rápidamente. Necesitará más promoción. 😥\")"
      ],
      "metadata": {
        "colab": {
          "base_uri": "https://localhost:8080/"
        },
        "id": "yGwoeHnXHraz",
        "outputId": "87b21912-403b-4f46-a3a6-726fb6e1ac96"
      },
      "execution_count": 6,
      "outputs": [
        {
          "output_type": "stream",
          "name": "stdout",
          "text": [
            "🐾 Conjunto de datos de entrenamiento (en una tabla):\n",
            "   Edad (años)  Raza Pura  Adoptado\n",
            "0            2          1         1\n",
            "1            5          0         0\n",
            "2            1          0         1\n",
            "3            3          1         1\n",
            "4            7          1         0\n",
            "5            4          0         0\n",
            "------------------------------\n",
            "✅ ¡Modelo entrenado exitosamente!\n",
            "------------------------------\n",
            "🐶 Ingrese los datos del nuevo perro para predecir su adopción:\n",
            "Edad del perro (en años): 5\n",
            "¿Es de raza pura? (sí/no): sí\n",
            "------------------------------\n",
            "📊 Analizando un perro de 5 año(s) y con 'Raza Pura'=1...\n",
            "\n",
            "Resultado de la Predicción:\n",
            "El modelo predice que este perro NO será adoptado rápidamente. Necesitará más promoción. 😥\n"
          ]
        }
      ]
    },
    {
      "cell_type": "markdown",
      "source": [
        "# **La Lógica del Modelo KNN (K-Vecinos Más Cercanos)**\n",
        "\n",
        "El modelo que entrenamos (KNeighborsClassifier con n_neighbors=3) funciona de una manera muy intuitiva, como si fuera una votación. Para decidir la suerte de un perro nuevo, sigue estos 3 pasos:\n",
        "\n",
        "Mide la \"distancia\" del perro nuevo a todos los perros del conjunto de entrenamiento. La \"distancia\" es una medida de similitud: cuanto menor es la distancia, más parecidos son los perros en términos de edad y raza.\n",
        "\n",
        "Encuentra los k vecinos más cercanos. Como lo configuramos con k=3, busca los 3 perros más similares del conjunto original.\n",
        "\n",
        "Realiza una votación. Mira las etiquetas (si fueron adoptados o no) de esos 3 vecinos y la etiqueta que más se repite gana. Esa será la predicción."
      ],
      "metadata": {
        "id": "DAqeqnkLK7f8"
      }
    },
    {
      "cell_type": "markdown",
      "source": [
        "# **Aplicando la Lógica a un Ejemplo**\n",
        "\n",
        "Perro Nuevo a Predecir: Edad = 5 años, Raza Pura = sí. Lo representamos como [5, 1].\n",
        "\n",
        "Paso 1 y 2: Encontrar a los 3 vecinos más cercanos\n",
        "El modelo calcula la similitud entre [5, 1] y todos los perros de su memoria. Estos son los 3 más cercanos:\n",
        "\n",
        "Vecino más cercano: Un perro de 5 años, mestizo [5, 0].\n",
        "\n",
        "Resultado: No fue adoptado (Etiqueta = 0).\n",
        "\n",
        "Lógica: Es muy cercano en edad (misma edad), aunque diferente en raza.\n",
        "\n",
        "Segundo vecino más cercano: Un perro de 4 años, mestizo [4, 0].\n",
        "\n",
        "Resultado: No fue adoptado (Etiqueta = 0).\n",
        "\n",
        "Lógica: Es cercano en edad (1 año de diferencia) y diferente en raza.\n",
        "\n",
        "Tercer vecino más cercano: (Hay un empate aquí, pero tomemos uno) Un perro de 7 años, de raza pura [7, 1].\n",
        "\n",
        "Resultado: No fue adoptado (Etiqueta = 0).\n",
        "\n",
        "Lógica: Es cercano en edad (2 años de diferencia) y de la misma raza.\n",
        "\n",
        "\n",
        "\n",
        "Paso 3: La Votación Final\n",
        "Ahora el modelo reúne los resultados de sus 3 vecinos más cercanos:\n",
        "\n",
        "Vecino 1: No Adoptado (0)\n",
        "\n",
        "Vecino 2: No Adoptado (0)\n",
        "\n",
        "Vecino 3: No Adoptado (0)\n",
        "\n",
        "Resultado de la votación:\n",
        "\n",
        "Votos para \"No Adoptado\": 3\n",
        "\n",
        "Votos para \"Sí Adoptado\": 0\n",
        "\n",
        "La clase ganadora es, por unanimidad, \"No Adoptado\". Por eso, el modelo concluye que un perro de 5 años y de raza pura probablemente no será adoptado rápidamente, basándose en la experiencia previa que tiene en sus datos.\n",
        "\n",
        "Este ejemplo demuestra cómo un modelo supervisado \"aprende\" de datos etiquetados para hacer predicciones sobre datos nuevos y nunca antes vistos."
      ],
      "metadata": {
        "id": "nGVOLudgLBkG"
      }
    }
  ]
}